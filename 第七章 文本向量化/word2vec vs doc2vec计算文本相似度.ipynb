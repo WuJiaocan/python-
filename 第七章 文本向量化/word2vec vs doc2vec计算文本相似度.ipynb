{
 "cells": [
  {
   "cell_type": "markdown",
   "metadata": {},
   "source": [
    "#### word2vec计算网页相似度\n",
    "##### 1. 关键词提取\n",
    "##### 2. 关键词向量化并相加，代表网页的向量化表示\n",
    "##### 3. 相似度计算"
   ]
  },
  {
   "cell_type": "code",
   "execution_count": 68,
   "metadata": {},
   "outputs": [],
   "source": [
    "import jieba.posseg as pseg\n",
    "from jieba import analyse\n",
    "import gensim\n",
    "import codecs\n",
    "import numpy as np"
   ]
  },
  {
   "cell_type": "code",
   "execution_count": 69,
   "metadata": {},
   "outputs": [],
   "source": [
    "wordvec_size=192\n",
    "\n",
    "'''\n",
    "    tfidf提取每行文本的关键词\n",
    "'''\n",
    "\n",
    "def keyword_extract(data):\n",
    "    tfidf = analyse.extract_tags\n",
    "    keywords = tfidf(data)\n",
    "    return keywords\n",
    "\n",
    "def getKeywords(docpath, savepath):\n",
    "    with open(docpath, 'r') as docf, open(savepath, 'w') as outf:\n",
    "        for data in docf:\n",
    "#             data = data[:len(data)-1]\n",
    "            keywords = keyword_extract(data)\n",
    "            for word in keywords:\n",
    "                outf.write(word + ' ')\n",
    "            outf.write('\\n')\n",
    "\n",
    "'''\n",
    "    获取字符串中某个字符中的下标\n",
    "'''\n",
    "def get_char_pos(string, char):\n",
    "    chPos = []\n",
    "    try:\n",
    "        chPos = list(pos for pos, val in enumerate(string) if (val==char))\n",
    "    except:\n",
    "        pass\n",
    "    return chPos\n",
    "\n",
    "'''\n",
    "    找出每个分词的词向量，并求和\n",
    "'''\n",
    "def word2vec(filename, model):\n",
    "    with codecs.open(filename, 'r') as f:\n",
    "        word_vec_all = np.zeros(wordvec_size)\n",
    "        for data in f:\n",
    "            space_pos = get_char_pos(data, ' ')\n",
    "            first_word = data[0:space_pos[0]]\n",
    "            if first_word in model.wv.vocab:  # 若果该词存在模型的词典中  \n",
    "                word_vec_all= word_vec_all+model[first_word]\n",
    "            if i in range(len(space_pos) - 1):\n",
    "                word = data[space_pos[i]+1 : space_pos[i+1]]\n",
    "                if word in model.wv.vocab:\n",
    "                    word_vec_all = word_vec_all + model[word]\n",
    "        return word_vec_all\n",
    "    \n",
    "'''\n",
    "     余弦相似度计算两个文本的相似程度\n",
    "'''   \n",
    "def similarityCalu(vector1, vector2):\n",
    "    vector1Mod = np.sqrt(vector1.dot(vector1))\n",
    "    vector2Mod = np.sqrt(vector2.dot(vector2))\n",
    "    if vector2Mod!=0 and vector1Mod!=0:\n",
    "        simlarity=(vector1.dot(vector2))/(vector1Mod*vector2Mod) # 余弦距离计算两个向量的相似度\n",
    "    else:\n",
    "        simlarity=0\n",
    "    return simlarity"
   ]
  },
  {
   "cell_type": "code",
   "execution_count": 32,
   "metadata": {},
   "outputs": [],
   "source": [
    "# import jieba.posseg as psg\n",
    "# from jieba import analyse\n",
    "    \n",
    "# with open(\"./data/P1.txt\",\"r\") as docf, open(\"./data/P1_keywords.txt\",\"w\") as outf:\n",
    "#     for data in docf:\n",
    "# #         data = data[:len(data)-1]\n",
    "#         keywords = analyse.extract_tags(data)\n",
    "#         for word in keywords:\n",
    "#             outf.write(word + \" \")\n",
    "#         outf.write(\"\\n\")"
   ]
  },
  {
   "cell_type": "code",
   "execution_count": 70,
   "metadata": {
    "scrolled": true
   },
   "outputs": [],
   "source": [
    "# import gensim\n",
    "\n",
    "# wordvec_size=192\n",
    "\n",
    "# model = gensim.models.Word2Vec.load('./zhwiki_news.word2vec')\n",
    "\n",
    "# with open(\"./data/P1_keywords.txt\", \"r\") as f:\n",
    "#     word_vec_all = np.zeros(wordvec_size)\n",
    "#     for data in f:\n",
    "#         spacePos = []\n",
    "#         try:\n",
    "#             spacePos = [pos for pos, val in enumerate(data) if (val == \" \")]\n",
    "#         except:\n",
    "#             pass\n",
    "#         first_word = data[0:spacePos[0]]\n",
    "#         if first_word in model.wv.vocab: #每句话的第一个词在词典中\n",
    "#             print(first_word)\n",
    "#             word_vec_all = word_vec_all + model[first_word]\n",
    "#         else:\n",
    "#             print(\"no\")\n",
    "#         for i in range(len(spacePos)-1):\n",
    "#             word = data[ spacePos[i]+1 : spacePos[i+1]]\n",
    "# #             print(word)\n",
    "#             if word in model.wv.vocab:\n",
    "#                 print(word)\n",
    "#                 word_vec_all = word_vec_all + model[word]\n",
    "#             else:\n",
    "#                 print(\"no\")"
   ]
  },
  {
   "cell_type": "code",
   "execution_count": 73,
   "metadata": {},
   "outputs": [
    {
     "name": "stdout",
     "output_type": "stream",
     "text": [
      "0.735528893222195\n"
     ]
    },
    {
     "name": "stderr",
     "output_type": "stream",
     "text": [
      "/home/wujiaocan/anaconda3/lib/python3.6/site-packages/ipykernel_launcher.py:42: DeprecationWarning: Call to deprecated `__getitem__` (Method will be removed in 4.0.0, use self.wv.__getitem__() instead).\n",
      "/home/wujiaocan/anaconda3/lib/python3.6/site-packages/ipykernel_launcher.py:46: DeprecationWarning: Call to deprecated `__getitem__` (Method will be removed in 4.0.0, use self.wv.__getitem__() instead).\n"
     ]
    }
   ],
   "source": [
    "if __name__ == '__main__':\n",
    "    model = gensim.models.Word2Vec.load('./zhwiki_news.word2vec')\n",
    "    p1 = './data/P1.txt'\n",
    "    p2 = './data/P2.txt'\n",
    "    p1_keywords = './data/P1_keywords.txt'\n",
    "    p2_keywords = './data/P2_keywords.txt'\n",
    "    getKeywords(p1, p1_keywords)\n",
    "    getKeywords(p2, p2_keywords)\n",
    "    p1_vec=word2vec(p1_keywords,model)\n",
    "    p2_vec=word2vec(p2_keywords,model)\n",
    "    \n",
    "    print(similarityCalu(p1_vec,p2_vec)) # 0.8831317526169875"
   ]
  },
  {
   "cell_type": "markdown",
   "metadata": {},
   "source": [
    "### doc2vec计算网页相似度\n",
    "#### 1. 预处理（文本分词）\n",
    "#### 2. 文档向量化 （model.infer_vector(doc)）\n",
    "#### 3. 计算文本相似 （simlarityCalu()）"
   ]
  },
  {
   "cell_type": "code",
   "execution_count": 74,
   "metadata": {},
   "outputs": [],
   "source": [
    "import jieba"
   ]
  },
  {
   "cell_type": "code",
   "execution_count": 75,
   "metadata": {},
   "outputs": [],
   "source": [
    "start_alpha = 0.01\n",
    "infer_epoch = 1000\n",
    "docvec_size = 192\n",
    "\n",
    "\n",
    "def simlarityCalu(vector1, vector2):\n",
    "    vector1Mod = np.sqrt(vector1.dot(vector1))\n",
    "    vector2Mod = np.sqrt(vector2.dot(vector2))\n",
    "    if vector2Mod != 0 and vector1Mod != 0:\n",
    "        simlarity = (vector1.dot(vector2)) / (vector1Mod * vector2Mod)\n",
    "    else:\n",
    "        simlarity = 0\n",
    "    return simlarity\n",
    "\n",
    "\n",
    "def doc2vec(file_name, model):\n",
    "    import jieba\n",
    "    doc = [w for x in codecs.open('./data/P1.txt', 'r').readlines() for w in jieba.cut(x.strip())]\n",
    "    doc_vec_all = model.infer_vector(doc, alpha=start_alpha, steps=infer_epoch)\n",
    "    return doc_vec_all"
   ]
  },
  {
   "cell_type": "code",
   "execution_count": 76,
   "metadata": {},
   "outputs": [
    {
     "name": "stderr",
     "output_type": "stream",
     "text": [
      "/home/wujiaocan/anaconda3/lib/python3.6/site-packages/gensim/models/doc2vec.py:531: UserWarning: The parameter `iter` is deprecated, will be removed in 4.0.0, use `epochs` instead.\n",
      "  warnings.warn(\"The parameter `iter` is deprecated, will be removed in 4.0.0, use `epochs` instead.\")\n",
      "/home/wujiaocan/anaconda3/lib/python3.6/site-packages/gensim/models/doc2vec.py:535: UserWarning: The parameter `size` is deprecated, will be removed in 4.0.0, use `vector_size` instead.\n",
      "  warnings.warn(\"The parameter `size` is deprecated, will be removed in 4.0.0, use `vector_size` instead.\")\n"
     ]
    },
    {
     "name": "stdout",
     "output_type": "stream",
     "text": [
      "0.9990944\n"
     ]
    }
   ],
   "source": [
    "if __name__=='__main__':\n",
    "    model = gensim.models.Doc2Vec.load('zhiwiki_news.doc2vec')\n",
    "    p1 = './data/P1.txt'\n",
    "    p2 = './data/P2.txt'\n",
    "    p1_doc2vec = doc2vec(p1, model)\n",
    "    p2_doc2vec = doc2vec(p2, model)\n",
    "    print(simlarityCalu(p1_doc2vec, p2_doc2vec))"
   ]
  },
  {
   "cell_type": "code",
   "execution_count": null,
   "metadata": {},
   "outputs": [],
   "source": []
  },
  {
   "cell_type": "markdown",
   "metadata": {},
   "source": [
    "## dot, np.multiply, *用法"
   ]
  },
  {
   "cell_type": "code",
   "execution_count": 10,
   "metadata": {},
   "outputs": [
    {
     "data": {
      "text/plain": [
       "array([[14, 20, 26],\n",
       "       [20, 29, 38]])"
      ]
     },
     "execution_count": 10,
     "metadata": {},
     "output_type": "execute_result"
    }
   ],
   "source": [
    "import numpy as np\n",
    "vec1 = np.array([[1,2,3],\n",
    "                [2,3,4]])\n",
    "vec2 = np.array([[1,2,3],\n",
    "                [2,3,4],\n",
    "                [3,4,5]])\n",
    "vec1.dot(vec2)"
   ]
  },
  {
   "cell_type": "code",
   "execution_count": 20,
   "metadata": {},
   "outputs": [
    {
     "ename": "ValueError",
     "evalue": "operands could not be broadcast together with shapes (2,3) (3,3) ",
     "output_type": "error",
     "traceback": [
      "\u001b[0;31m---------------------------------------------------------------------------\u001b[0m",
      "\u001b[0;31mValueError\u001b[0m                                Traceback (most recent call last)",
      "\u001b[0;32m<ipython-input-20-5329d9d6e192>\u001b[0m in \u001b[0;36m<module>\u001b[0;34m()\u001b[0m\n\u001b[0;32m----> 1\u001b[0;31m \u001b[0mnp\u001b[0m\u001b[0;34m.\u001b[0m\u001b[0mmultiply\u001b[0m\u001b[0;34m(\u001b[0m\u001b[0mvec1\u001b[0m\u001b[0;34m,\u001b[0m\u001b[0mvec2\u001b[0m\u001b[0;34m)\u001b[0m\u001b[0;34m\u001b[0m\u001b[0m\n\u001b[0m",
      "\u001b[0;31mValueError\u001b[0m: operands could not be broadcast together with shapes (2,3) (3,3) "
     ]
    }
   ],
   "source": [
    "np.multiply(vec1,vec2)"
   ]
  },
  {
   "cell_type": "code",
   "execution_count": 21,
   "metadata": {},
   "outputs": [
    {
     "ename": "ValueError",
     "evalue": "operands could not be broadcast together with shapes (2,3) (3,3) ",
     "output_type": "error",
     "traceback": [
      "\u001b[0;31m---------------------------------------------------------------------------\u001b[0m",
      "\u001b[0;31mValueError\u001b[0m                                Traceback (most recent call last)",
      "\u001b[0;32m<ipython-input-21-5329d9d6e192>\u001b[0m in \u001b[0;36m<module>\u001b[0;34m()\u001b[0m\n\u001b[0;32m----> 1\u001b[0;31m \u001b[0mnp\u001b[0m\u001b[0;34m.\u001b[0m\u001b[0mmultiply\u001b[0m\u001b[0;34m(\u001b[0m\u001b[0mvec1\u001b[0m\u001b[0;34m,\u001b[0m\u001b[0mvec2\u001b[0m\u001b[0;34m)\u001b[0m\u001b[0;34m\u001b[0m\u001b[0m\n\u001b[0m",
      "\u001b[0;31mValueError\u001b[0m: operands could not be broadcast together with shapes (2,3) (3,3) "
     ]
    }
   ],
   "source": [
    "np.multiply(vec1,vec2)"
   ]
  },
  {
   "cell_type": "markdown",
   "metadata": {},
   "source": [
    "#### 矩阵 np.multiply 等价 * 保证矩阵维度要相同，对应位置上的元素相乘\n",
    "#### 矩阵 vect1.dot(vect2) 等价于 线性代数中的矩阵乘法"
   ]
  },
  {
   "cell_type": "code",
   "execution_count": 17,
   "metadata": {},
   "outputs": [],
   "source": [
    "vec3 = np.array([[1,2,3],\n",
    "                [2,3,4]])\n",
    "vec4 = np.array([[1,2,3],\n",
    "                [2,3,4]])"
   ]
  },
  {
   "cell_type": "code",
   "execution_count": 18,
   "metadata": {},
   "outputs": [
    {
     "data": {
      "text/plain": [
       "array([[ 1,  4,  9],\n",
       "       [ 4,  9, 16]])"
      ]
     },
     "execution_count": 18,
     "metadata": {},
     "output_type": "execute_result"
    }
   ],
   "source": [
    "np.multiply(vec3,vec4)"
   ]
  },
  {
   "cell_type": "code",
   "execution_count": 19,
   "metadata": {},
   "outputs": [
    {
     "data": {
      "text/plain": [
       "array([[ 1,  4,  9],\n",
       "       [ 4,  9, 16]])"
      ]
     },
     "execution_count": 19,
     "metadata": {},
     "output_type": "execute_result"
    }
   ],
   "source": [
    "vec3 * vec4"
   ]
  },
  {
   "cell_type": "markdown",
   "metadata": {},
   "source": [
    "#### 向量 arr1.dot(arr2) 对应位置上的元素相乘再求和\n",
    "#### 向量 np.multiply() 等价 * 对应位置上的元素相乘"
   ]
  },
  {
   "cell_type": "code",
   "execution_count": 22,
   "metadata": {},
   "outputs": [
    {
     "data": {
      "text/plain": [
       "40"
      ]
     },
     "execution_count": 22,
     "metadata": {},
     "output_type": "execute_result"
    }
   ],
   "source": [
    "arr1 = np.array([1,2,3,4])\n",
    "arr2 = np.array([2,3,4,5])\n",
    "arr1.dot(arr2)"
   ]
  },
  {
   "cell_type": "code",
   "execution_count": 23,
   "metadata": {},
   "outputs": [
    {
     "data": {
      "text/plain": [
       "array([ 2,  6, 12, 20])"
      ]
     },
     "execution_count": 23,
     "metadata": {},
     "output_type": "execute_result"
    }
   ],
   "source": [
    "np.multiply(arr1, arr2)"
   ]
  },
  {
   "cell_type": "code",
   "execution_count": 24,
   "metadata": {},
   "outputs": [
    {
     "data": {
      "text/plain": [
       "array([ 2,  6, 12, 20])"
      ]
     },
     "execution_count": 24,
     "metadata": {},
     "output_type": "execute_result"
    }
   ],
   "source": [
    "arr1 * arr2"
   ]
  },
  {
   "cell_type": "code",
   "execution_count": null,
   "metadata": {},
   "outputs": [],
   "source": []
  }
 ],
 "metadata": {
  "kernelspec": {
   "display_name": "Python 3",
   "language": "python",
   "name": "python3"
  },
  "language_info": {
   "codemirror_mode": {
    "name": "ipython",
    "version": 3
   },
   "file_extension": ".py",
   "mimetype": "text/x-python",
   "name": "python",
   "nbconvert_exporter": "python",
   "pygments_lexer": "ipython3",
   "version": "3.6.5"
  }
 },
 "nbformat": 4,
 "nbformat_minor": 2
}
