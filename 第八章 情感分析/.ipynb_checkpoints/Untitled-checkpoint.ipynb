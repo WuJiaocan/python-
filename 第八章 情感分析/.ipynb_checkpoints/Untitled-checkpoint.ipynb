{
 "cells": [
  {
   "cell_type": "markdown",
   "metadata": {},
   "source": [
    "### 1. 加载训练好的词典wordList和词典向量wordVectors"
   ]
  },
  {
   "cell_type": "code",
   "execution_count": 1,
   "metadata": {
    "scrolled": true
   },
   "outputs": [
    {
     "name": "stdout",
     "output_type": "stream",
     "text": [
      "载入word列表\n",
      "载入文本向量\n",
      "400000\n",
      "(400000, 50)\n"
     ]
    }
   ],
   "source": [
    "import numpy as np\n",
    "\n",
    "wordsList = np.load('wordsList.npy')\n",
    "print('载入word列表')\n",
    "wordsList = wordsList.tolist()\n",
    "wordsList = [word.decode('UTF-8')\n",
    "             for word in wordsList]\n",
    "wordVectors = np.load('wordVectors.npy')\n",
    "print('载入文本向量')\n",
    "\n",
    "print(len(wordsList))\n",
    "print(wordVectors.shape)"
   ]
  },
  {
   "cell_type": "code",
   "execution_count": 2,
   "metadata": {},
   "outputs": [
    {
     "data": {
      "text/plain": [
       "399999"
      ]
     },
     "execution_count": 2,
     "metadata": {},
     "output_type": "execute_result"
    }
   ],
   "source": [
    "wordsList.index('unk')"
   ]
  },
  {
   "cell_type": "code",
   "execution_count": 3,
   "metadata": {},
   "outputs": [
    {
     "data": {
      "text/plain": [
       "array([ 2.3302e-01,  4.5885e-01,  2.6602e-01,  3.8204e-02,  5.6694e-01,\n",
       "       -5.1194e-01, -1.7831e+00,  4.3072e-01,  1.3246e-03,  1.7852e-02,\n",
       "       -5.1549e-01, -5.4466e-01, -2.5115e-01, -3.7632e-01,  4.0969e-01,\n",
       "        7.0356e-02, -2.6120e-01, -2.7769e-03, -5.1361e-01,  2.9828e-01,\n",
       "        1.4496e-01,  5.3748e-01, -6.2443e-01,  4.1379e-01, -2.2006e-01,\n",
       "       -1.6277e+00,  2.9026e-01, -1.8530e-02,  5.1004e-01, -6.1231e-01,\n",
       "        3.2380e+00,  7.4873e-01,  1.8835e-01,  2.2167e-02,  5.7824e-01,\n",
       "        5.2022e-01,  1.5287e-01,  4.1601e-01,  5.5260e-01, -4.0373e-01,\n",
       "       -1.8057e-01,  2.0914e-01, -2.3873e-01,  1.1284e-01, -7.4940e-03,\n",
       "        5.7918e-01, -4.3641e-01, -8.0904e-01,  2.0410e-01, -1.9532e-01],\n",
       "      dtype=float32)"
      ]
     },
     "execution_count": 3,
     "metadata": {},
     "output_type": "execute_result"
    }
   ],
   "source": [
    "home_index = wordsList.index('home')\n",
    "wordVectors[home_index]"
   ]
  },
  {
   "cell_type": "code",
   "execution_count": 4,
   "metadata": {},
   "outputs": [
    {
     "name": "stdout",
     "output_type": "stream",
     "text": [
      "2245\n"
     ]
    }
   ],
   "source": [
    "def get_content(path):\n",
    "    with open(path, 'r', encoding='utf-8', errors='ignore') as f:\n",
    "        content = ''\n",
    "        for l in f:\n",
    "            l = l.strip()\n",
    "            content += l\n",
    "        return content\n",
    "\n",
    "import glob\n",
    "files = glob.glob('./pos/*.txt')\n",
    "corpus = [get_content(x) for x in files][0:2245]\n",
    "print(len(corpus))"
   ]
  },
  {
   "cell_type": "code",
   "execution_count": null,
   "metadata": {},
   "outputs": [],
   "source": []
  },
  {
   "cell_type": "markdown",
   "metadata": {},
   "source": [
    "### 2. 加载要分析情感的文本"
   ]
  },
  {
   "cell_type": "code",
   "execution_count": 5,
   "metadata": {},
   "outputs": [
    {
     "name": "stdout",
     "output_type": "stream",
     "text": [
      "正面评价完结\n",
      "负面评价完结\n",
      "文件总数 4490\n",
      "所有的词的数量 1056147\n",
      "平均文件词的长度 235.22204899777282\n"
     ]
    }
   ],
   "source": [
    "import os\n",
    "from os.path import isfile, join\n",
    "\n",
    "# pos_files = ['pos/' + f for f in os.listdir(\n",
    "#     'pos/') if isfile(join('pos/', f))]\n",
    "neg_files = ['neg/' + f for f in os.listdir(\n",
    "    'neg/') if isfile(join('neg/', f))]\n",
    "num_words = []\n",
    "for pf in corpus:\n",
    "    line = pf\n",
    "    counter = len(line.split())\n",
    "    num_words.append(counter)\n",
    "print('正面评价完结')\n",
    "\n",
    "for nf in neg_files:\n",
    "    with open(nf, \"r\", encoding='utf-8') as f:\n",
    "        line = f.readline()\n",
    "        counter = len(line.split())\n",
    "        num_words.append(counter)\n",
    "print('负面评价完结')\n",
    "\n",
    "num_files = len(num_words)\n",
    "print('文件总数', num_files)\n",
    "print('所有的词的数量', sum(num_words))\n",
    "print('平均文件词的长度', sum(num_words) / len(num_words))"
   ]
  },
  {
   "cell_type": "markdown",
   "metadata": {},
   "source": [
    "### 3. 查看文本包含的词数范围"
   ]
  },
  {
   "cell_type": "code",
   "execution_count": 6,
   "metadata": {},
   "outputs": [
    {
     "name": "stderr",
     "output_type": "stream",
     "text": [
      "/home/wujiaocan/anaconda3/lib/python3.6/site-packages/matplotlib/font_manager.py:1328: UserWarning: findfont: Font family ['sans-serif'] not found. Falling back to DejaVu Sans\n",
      "  (prop.get_family(), self.defaultFamily[fontext]))\n"
     ]
    },
    {
     "data": {
      "image/png": "[encoded data removed]",
      "text/plain": [
       "<Figure size 432x288 with 1 Axes>"
      ]
     },
     "metadata": {},
     "output_type": "display_data"
    }
   ],
   "source": [
    "import matplotlib\n",
    "# matplotlib.use('qt4agg')\n",
    "%matplotlib inline\n",
    "matplotlib.rcParams['font.sans-serif'] = ['SimHei']\n",
    "matplotlib.rcParams['font.family'] = 'sans-serif'\n",
    "matplotlib.pyplot.hist(num_words, 50, facecolor='g')\n",
    "matplotlib.pyplot.xlabel('Length of text')\n",
    "matplotlib.pyplot.ylabel('Frequence')\n",
    "matplotlib.pyplot.axis([0, 1200, 0, 1000])\n",
    "matplotlib.pyplot.show()"
   ]
  },
  {
   "cell_type": "markdown",
   "metadata": {},
   "source": [
    "### 4. 将文本转化成 文本数 * 文本内的单词数 大小的索引矩阵\n",
    "#### 分析上述直方图，发现文本单词数设为300时能覆盖大大部分的文档"
   ]
  },
  {
   "cell_type": "code",
   "execution_count": 7,
   "metadata": {},
   "outputs": [],
   "source": [
    "'''\n",
    "将文本转化成一个索引矩阵 4490 * 300\n",
    "'''\n",
    "\n",
    "# Removes punctuation, parentheses, question marks, etc., and leaves only alphanumeric characters\n",
    "import re\n",
    "strip_special_chars = re.compile(\"[^A-Za-z0-9 ]+\")\n",
    "\n",
    "def cleanSentences(string):\n",
    "    string = string.lower().replace(\"<br />\", \" \")\n",
    "    return re.sub(strip_special_chars, \"\", string.lower())\n",
    "\n",
    "\n",
    "max_seq_num = 300\n",
    "ids = np.zeros((num_files, max_seq_num), dtype='int32')\n",
    "file_count = 0"
   ]
  },
  {
   "cell_type": "code",
   "execution_count": 8,
   "metadata": {},
   "outputs": [
    {
     "name": "stdout",
     "output_type": "stream",
     "text": [
      "(4490, 300)\n"
     ]
    }
   ],
   "source": [
    "print(ids.shape)"
   ]
  },
  {
   "cell_type": "code",
   "execution_count": 9,
   "metadata": {},
   "outputs": [],
   "source": [
    "for pf in corpus:\n",
    "    line = pf\n",
    "    indexCounter = 0\n",
    "    cleanedLine = cleanSentences(line)\n",
    "    split = cleanedLine.split()\n",
    "    for word in split:\n",
    "        if indexCounter < max_seq_num and file_count < num_files:\n",
    "            try:\n",
    "                ids[file_count][indexCounter] = wordsList.index(word)\n",
    "            except ValueError:\n",
    "                ids[file_count][indexCounter] = 399999\n",
    "            indexCounter = indexCounter + 1\n",
    "    file_count = file_count + 1"
   ]
  },
  {
   "cell_type": "code",
   "execution_count": 10,
   "metadata": {},
   "outputs": [
    {
     "name": "stdout",
     "output_type": "stream",
     "text": [
      "[[   83    81   596 ...     0     0     0]\n",
      " [19918    31    51 ...     4    71 11335]\n",
      " [  192   311    14 ...  2909  9703     6]\n",
      " ...\n",
      " [    0     0     0 ...     0     0     0]\n",
      " [    0     0     0 ...     0     0     0]\n",
      " [    0     0     0 ...     0     0     0]]\n"
     ]
    }
   ],
   "source": [
    "print(ids)"
   ]
  },
  {
   "cell_type": "code",
   "execution_count": 11,
   "metadata": {},
   "outputs": [
    {
     "name": "stdout",
     "output_type": "stream",
     "text": [
      "2245\n"
     ]
    }
   ],
   "source": [
    "print(file_count)"
   ]
  },
  {
   "cell_type": "code",
   "execution_count": 17,
   "metadata": {},
   "outputs": [
    {
     "name": "stdout",
     "output_type": "stream",
     "text": [
      "neg/7910_2.txt\n"
     ]
    }
   ],
   "source": [
    "for nf in neg_files:\n",
    "    with open(nf, \"r\",encoding='utf-8') as f:\n",
    "        indexCounter = 0\n",
    "        line = f.readline()\n",
    "        cleanedLine = cleanSentences(line)\n",
    "        split = cleanedLine.split()\n",
    "        if len(split)==0:\n",
    "            print(nf)\n",
    "        else:\n",
    "            for word in split:\n",
    "                if indexCounter < max_seq_num and file_count < num_files:\n",
    "                    try:\n",
    "                        ids[file_count][indexCounter] = wordsList.index(word)\n",
    "                    except ValueError:\n",
    "                        ids[file_count][indexCounter] = 399999  # 未知的词语\n",
    "                    indexCounter = indexCounter + 1\n",
    "    file_count = file_count + 1"
   ]
  },
  {
   "cell_type": "code",
   "execution_count": 19,
   "metadata": {},
   "outputs": [],
   "source": [
    "np.save('idsMatrix', ids)"
   ]
  },
  {
   "cell_type": "markdown",
   "metadata": {},
   "source": [
    "### 5. "
   ]
  },
  {
   "cell_type": "code",
   "execution_count": null,
   "metadata": {},
   "outputs": [],
   "source": [
    "from random import randint\n",
    "\n",
    "batch_size = 24\n",
    "lstm_units = 64\n",
    "num_labels = 2\n",
    "iterations = 100\n",
    "lr = 0.001\n",
    "ids = np.load('idsMatrix.npy')\n",
    "\n",
    "'''\n",
    "    辅助函数，返回一个数据集的迭代器，用于返回一批训练集合\n",
    "'''\n",
    "\n",
    "def get_train_batch():\n",
    "    labels = []\n",
    "    arr = np.zeros([batch_size, max_seq_num])\n",
    "    for i in rang(batch_size):\n",
    "        if (i%2==0):\n",
    "            num = randint(1, 11499)\n",
    "            labels.append([1,0])\n",
    "        else:\n",
    "            num = randint(13499, 24999)\n",
    "            labels.append([0,1])\n",
    "        arr[i] = ids[num-1 :num]\n",
    "    return arr, labels\n",
    "\n",
    "def get_test_batch():\n",
    "    labels = []\n",
    "    arr = np.zeros([batch_size, max_seq_num])\n",
    "    for i in range(batch_size):\n",
    "        num = randint(11499, 13499)\n",
    "        if (num <= 12499):\n",
    "            labels.append([1, 0])\n",
    "        else:\n",
    "            labels.append([0, 1])\n",
    "        arr[i] = ids[num - 1:num]\n",
    "    return arr, labels\n",
    "\n",
    "\n",
    "import tensorflow as tf\n",
    "\n",
    "tf.reset_default_graph()\n",
    "\n",
    "labels = tf.placeholder(tf.float32, [batch_size, num_labels])\n",
    "input_data = tf.placeholder(tf.int32, [batch_size, max_seq_num])\n",
    "data = tf.Variable(tf.zeros([batch_size, max_seq_num, num_dimensions]), dtype=tf.float32)\n",
    "data = tf.nn.embedding_lookup(wordVectors, input_data)\n",
    "\n",
    "lstmCell = tf.contrib.rnn.BasicLSTMCell(lstm_units)\n",
    "lstmCell = tf.contrib.rnn.DropoutWrapper(cell=lstmCell, output_keep_prob=0.5)\n",
    "value, _ = tf.nn.dynamic_rnn(lstmCell, data, dtype=tf.float32)\n",
    "\n",
    "weight = tf.Variable(tf.truncated_normal([lstm_units, num_labels]))\n",
    "bias = tf.Variable(tf.constant(0.1, shape=[num_labels]))\n",
    "value = tf.transpose(value, [1, 0, 2])\n",
    "last = tf.gather(value, int(value.get_shape()[0]) - 1)\n",
    "prediction = (tf.matmul(last, weight) + bias)\n",
    "\n",
    "correct_pred = tf.equal(tf.argmax(prediction, 1), tf.argmax(labels, 1))\n",
    "accuracy = tf.reduce_mean(tf.cast(correct_pred, tf.float32))\n",
    "\n",
    "loss = tf.reduce_mean(tf.nn.softmax_cross_entropy_with_logits(logits=prediction, labels=labels))\n",
    "optimizer = tf.train.AdamOptimizer(lr).minimize(loss)\n",
    "\n",
    "saver = tf.train.Saver()\n",
    "\n",
    "with tf.Session() as sess:\n",
    "    if os.path.exists(\"models\") and os.path.exists(\"models/checkpoint\"):\n",
    "        saver.restore(sess, tf.train.latest_checkpoint('models'))\n",
    "    else:\n",
    "        if int((tf.__version__).split('.')[1]) < 12 and int((tf.__version__).split('.')[0]) < 1:\n",
    "            init = tf.initialize_all_variables()\n",
    "        else:\n",
    "            init = tf.global_variables_initializer()\n",
    "        sess.run(init)\n",
    "\n",
    "    iterations = 100\n",
    "    for step in range(iterations):\n",
    "        next_batch, next_batch_labels = get_test_batch()\n",
    "        if step % 20 == 0:\n",
    "            print(\"step:\", step, \" 正确率:\", (sess.run(\n",
    "                accuracy, {input_data: next_batch, labels: next_batch_labels})) * 100)\n",
    "\n",
    "    if not os.path.exists(\"models\"):\n",
    "        os.mkdir(\"models\")\n",
    "    save_path = saver.save(sess, \"models/model.ckpt\")\n",
    "    print(\"Model saved in path: %s\" % save_path)"
   ]
  },
  {
   "cell_type": "code",
   "execution_count": null,
   "metadata": {},
   "outputs": [],
   "source": []
  }
 ],
 "metadata": {
  "kernelspec": {
   "display_name": "Python 3",
   "language": "python",
   "name": "python3"
  },
  "language_info": {
   "codemirror_mode": {
    "name": "ipython",
    "version": 3
   },
   "file_extension": ".py",
   "mimetype": "text/x-python",
   "name": "python",
   "nbconvert_exporter": "python",
   "pygments_lexer": "ipython3",
   "version": "3.6.5"
  }
 },
 "nbformat": 4,
 "nbformat_minor": 2
}
