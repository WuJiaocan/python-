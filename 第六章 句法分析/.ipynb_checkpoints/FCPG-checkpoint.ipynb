{
 "cells": [
  {
   "cell_type": "code",
   "execution_count": 2,
   "metadata": {},
   "outputs": [],
   "source": [
    "# 分词\n",
    "import jieba\n",
    "\n",
    "# 句法分析\n",
    "from nltk.parse import stanford"
   ]
  },
  {
   "cell_type": "code",
   "execution_count": 5,
   "metadata": {},
   "outputs": [
    {
     "name": "stdout",
     "output_type": "stream",
     "text": [
      "他 骑 自行车 去 了 菜市场 。\n"
     ]
    }
   ],
   "source": [
    "if __name__ == '__main__':\n",
    "    string = '他骑自行车去了菜市场。'\n",
    "    seg_list = jieba.cut(string, cut_all=False, HMM=True)\n",
    "    seg_str = ' '.join(seg_list)\n",
    "    \n",
    "    print(seg_str)\n",
    "    \n",
    "    root = './'\n",
    "    "
   ]
  },
  {
   "cell_type": "code",
   "execution_count": 3,
   "metadata": {},
   "outputs": [],
   "source": []
  },
  {
   "cell_type": "code",
   "execution_count": null,
   "metadata": {},
   "outputs": [],
   "source": []
  }
 ],
 "metadata": {
  "kernelspec": {
   "display_name": "Python 3",
   "language": "python",
   "name": "python3"
  },
  "language_info": {
   "codemirror_mode": {
    "name": "ipython",
    "version": 3
   },
   "file_extension": ".py",
   "mimetype": "text/x-python",
   "name": "python",
   "nbconvert_exporter": "python",
   "pygments_lexer": "ipython3",
   "version": "3.6.5"
  }
 },
 "nbformat": 4,
 "nbformat_minor": 2
}
